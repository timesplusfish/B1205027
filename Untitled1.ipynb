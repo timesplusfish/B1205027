{
  "nbformat": 4,
  "nbformat_minor": 0,
  "metadata": {
    "colab": {
      "provenance": []
    },
    "kernelspec": {
      "name": "python3",
      "display_name": "Python 3"
    },
    "language_info": {
      "name": "python"
    }
  },
  "cells": [
    {
      "cell_type": "code",
      "execution_count": 3,
      "metadata": {
        "colab": {
          "base_uri": "https://localhost:8080/"
        },
        "id": "WmPjMDoK9XWK",
        "outputId": "ef3edd8c-56bc-4c34-deea-5ff2764717f1"
      },
      "outputs": [
        {
          "output_type": "stream",
          "name": "stdout",
          "text": [
            "陳佳妤\n",
            "<class 'str'>\n",
            "B1205027\n",
            "<class 'str'>\n",
            "{'name': '陳佳妤', 'code': 'B1205027'}\n"
          ]
        }
      ],
      "source": [
        "name=\"陳佳妤\"\n",
        "code=\"B1205027\"\n",
        "print(name)\n",
        "print(type(name))\n",
        "print(code)\n",
        "print(type(code))\n",
        "mydict={\"name\":\"陳佳妤\",\"code\":\"B1205027\"}\n",
        "print(mydict)"
      ]
    }
  ]
}